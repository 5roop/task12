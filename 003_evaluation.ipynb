{
 "cells": [
  {
   "cell_type": "code",
   "execution_count": 1,
   "metadata": {},
   "outputs": [
    {
     "data": {
      "application/vnd.jupyter.widget-view+json": {
       "model_id": "ca44281efe8642e9a2e72584501e3401",
       "version_major": 2,
       "version_minor": 0
      },
      "text/plain": [
       "  0%|          | 0/250 [00:00<?, ?it/s]"
      ]
     },
     "metadata": {},
     "output_type": "display_data"
    },
    {
     "name": "stdout",
     "output_type": "stream",
     "text": [
      "On test: 0.528\n"
     ]
    },
    {
     "data": {
      "application/vnd.jupyter.widget-view+json": {
       "model_id": "e04b7b4ab24549169947546bf9ed4226",
       "version_major": 2,
       "version_minor": 0
      },
      "text/plain": [
       "  0%|          | 0/48 [00:00<?, ?it/s]"
      ]
     },
     "metadata": {},
     "output_type": "display_data"
    },
    {
     "name": "stdout",
     "output_type": "stream",
     "text": [
      "On dev: 0.4375\n"
     ]
    },
    {
     "data": {
      "application/vnd.jupyter.widget-view+json": {
       "model_id": "ade87c39628347b29138801b9374b7ad",
       "version_major": 2,
       "version_minor": 0
      },
      "text/plain": [
       "  0%|          | 0/250 [00:00<?, ?it/s]"
      ]
     },
     "metadata": {},
     "output_type": "display_data"
    },
    {
     "name": "stdout",
     "output_type": "stream",
     "text": [
      "On test: 0.54\n"
     ]
    },
    {
     "data": {
      "application/vnd.jupyter.widget-view+json": {
       "model_id": "2ff7757266894895a6382a0da28c0bbe",
       "version_major": 2,
       "version_minor": 0
      },
      "text/plain": [
       "  0%|          | 0/52 [00:00<?, ?it/s]"
      ]
     },
     "metadata": {},
     "output_type": "display_data"
    },
    {
     "name": "stdout",
     "output_type": "stream",
     "text": [
      "On dev: 0.5\n"
     ]
    }
   ],
   "source": [
    "from utils import *\n",
    "import pandas as pd\n",
    "import os\n",
    "os.environ[\"TOKENIZERS_PARALLELISM\"] = \"false\"\n",
    "lang = \"HR.HT\"\n",
    "config = democonfig\n",
    "config[\"NUM_EPOCH\"] = 30\n",
    "config[\"lang\"] = lang\n",
    "\n",
    "\n",
    "config[\"model_name\"] = \"classla/bcms-bertic\"\n",
    "config[\"model_type\"] = \"bert\"\n",
    "test = (\n",
    "    pd.read_excel(\"COPA-MT-MK.BG.TR.MT.IS.HR.xlsx\", sheet_name=\"test\")\n",
    "    .dropna(axis=1, how=\"all\")\n",
    "    .rename(columns=col_rename_dict)\n",
    ")\n",
    "dev = (\n",
    "    pd.read_excel(\"COPA-MT-MK.BG.TR.MT.IS.HR.xlsx\", sheet_name=\"dev\")\n",
    "    .dropna(axis=1, how=\"all\")\n",
    "    .rename(columns=col_rename_dict)\n",
    ")\n",
    "train = (\n",
    "    pd.read_excel(\"COPA-MT-MK.BG.TR.MT.IS.HR.xlsx\", sheet_name=\"train\")\n",
    "    .dropna(axis=1, how=\"all\")\n",
    "    .rename(columns=col_rename_dict)\n",
    ")\n",
    "\n",
    "for asksfor in reversed(\"cause effect\".split()):\n",
    "    import torch\n",
    "    torch.cuda.empty_cache()\n",
    "    import gc\n",
    "    gc.collect()\n",
    "    import pickle\n",
    "    with open(f\"bertic_{asksfor}.pkl\", \"rb\") as f:\n",
    "        model = pickle.load(f)\n",
    "    sep_token = model.tokenizer.sep_token\n",
    "    config[\"asksfor\"] = asksfor\n",
    "    test_subset = filter_dataframe(\n",
    "        test,\n",
    "        lang=lang,\n",
    "        asksfor=asksfor,\n",
    "        sep_token=model.tokenizer.sep_token,\n",
    "        )\n",
    "    dev_subset = filter_dataframe(\n",
    "        dev,\n",
    "        lang=lang,\n",
    "        asksfor=asksfor,\n",
    "        sep_token=model.tokenizer.sep_token,\n",
    "        )\n",
    "    y_pred_test = eval_model(model, test_subset)\n",
    "    y_true_test = test.loc[test[\"asks-for\"] == asksfor, \"gold\"].values.tolist()\n",
    "    from sklearn.metrics import accuracy_score\n",
    "    print(f\"On test: {accuracy_score(y_true_test, y_pred_test)}\")\n",
    "    results = dict(config)\n",
    "    results[\"accuracy\"] = accuracy_score(y_true_test, y_pred_test)\n",
    "    results[\"split\"] = \"test\"\n",
    "    results[\"y_true\"] = y_true_test\n",
    "    results[\"y_pred\"] = y_pred_test\n",
    "    with open(\"003_results_new_script.jsonl\", \"a\") as f:\n",
    "        f.write(str(results)+'\\n')\n",
    "\n",
    "    y_pred_dev = eval_model(model, dev_subset)\n",
    "    y_true_dev = dev.loc[dev[\"asks-for\"] == asksfor, \"gold\"].values.tolist()\n",
    "    print(f\"On dev: {accuracy_score(y_true_dev, y_pred_dev)}\")\n",
    "    results = dict(config)\n",
    "    results[\"accuracy\"] = accuracy_score(y_true_dev, y_pred_dev)\n",
    "    results[\"split\"] = \"dev\"\n",
    "    results[\"y_true\"] = y_true_dev\n",
    "    results[\"y_pred\"] = y_pred_dev\n",
    "    with open(\"003_results_new_script.jsonl\", \"a\") as f:\n",
    "        f.write(str(results)+'\\n')\n",
    "    del model"
   ]
  },
  {
   "cell_type": "code",
   "execution_count": 14,
   "metadata": {},
   "outputs": [
    {
     "data": {
      "text/html": [
       "<div>\n",
       "<style scoped>\n",
       "    .dataframe tbody tr th:only-of-type {\n",
       "        vertical-align: middle;\n",
       "    }\n",
       "\n",
       "    .dataframe tbody tr th {\n",
       "        vertical-align: top;\n",
       "    }\n",
       "\n",
       "    .dataframe thead th {\n",
       "        text-align: right;\n",
       "    }\n",
       "</style>\n",
       "<table border=\"1\" class=\"dataframe\">\n",
       "  <thead>\n",
       "    <tr style=\"text-align: right;\">\n",
       "      <th></th>\n",
       "      <th>y_true</th>\n",
       "      <th>y_pred</th>\n",
       "    </tr>\n",
       "    <tr>\n",
       "      <th>split</th>\n",
       "      <th></th>\n",
       "      <th></th>\n",
       "    </tr>\n",
       "  </thead>\n",
       "  <tbody>\n",
       "    <tr>\n",
       "      <th>dev</th>\n",
       "      <td>[2.0, 2.0, 1.0, 2.0, 1.0, 1.0, 2.0, 1.0, 1.0, ...</td>\n",
       "      <td>[1, 1, 2, 2, 2, 2, 1, 1, 1, 2, 1, 2, 1, 1, 2, ...</td>\n",
       "    </tr>\n",
       "    <tr>\n",
       "      <th>test</th>\n",
       "      <td>[1.0, 2.0, 1.0, 1.0, 2.0, 2.0, 1.0, 2.0, 1.0, ...</td>\n",
       "      <td>[1, 2, 1, 2, 1, 2, 2, 2, 1, 1, 1, 1, 2, 2, 2, ...</td>\n",
       "    </tr>\n",
       "  </tbody>\n",
       "</table>\n",
       "</div>"
      ],
      "text/plain": [
       "                                                  y_true  \\\n",
       "split                                                      \n",
       "dev    [2.0, 2.0, 1.0, 2.0, 1.0, 1.0, 2.0, 1.0, 1.0, ...   \n",
       "test   [1.0, 2.0, 1.0, 1.0, 2.0, 2.0, 1.0, 2.0, 1.0, ...   \n",
       "\n",
       "                                                  y_pred  \n",
       "split                                                     \n",
       "dev    [1, 1, 2, 2, 2, 2, 1, 1, 1, 2, 1, 2, 1, 1, 2, ...  \n",
       "test   [1, 2, 1, 2, 1, 2, 2, 2, 1, 1, 1, 1, 2, 2, 2, ...  "
      ]
     },
     "execution_count": 14,
     "metadata": {},
     "output_type": "execute_result"
    }
   ],
   "source": [
    "import pandas as pd\n",
    "from ast import literal_eval\n",
    "\n",
    "with open(\"003_results_new_script.jsonl\") as f:\n",
    "    contents = f.readlines()\n",
    "df = pd.DataFrame(data=[literal_eval(i) for i in contents])\n",
    "gb = df.groupby(\"split\".split()).agg({\n",
    "    \"y_true\": sum,\n",
    "    \"y_pred\": sum,\n",
    "})\n",
    "gb"
   ]
  },
  {
   "cell_type": "code",
   "execution_count": 15,
   "metadata": {},
   "outputs": [
    {
     "data": {
      "text/html": [
       "<div>\n",
       "<style scoped>\n",
       "    .dataframe tbody tr th:only-of-type {\n",
       "        vertical-align: middle;\n",
       "    }\n",
       "\n",
       "    .dataframe tbody tr th {\n",
       "        vertical-align: top;\n",
       "    }\n",
       "\n",
       "    .dataframe thead th {\n",
       "        text-align: right;\n",
       "    }\n",
       "</style>\n",
       "<table border=\"1\" class=\"dataframe\">\n",
       "  <thead>\n",
       "    <tr style=\"text-align: right;\">\n",
       "      <th></th>\n",
       "      <th>y_true</th>\n",
       "      <th>y_pred</th>\n",
       "      <th>accuracy</th>\n",
       "    </tr>\n",
       "    <tr>\n",
       "      <th>split</th>\n",
       "      <th></th>\n",
       "      <th></th>\n",
       "      <th></th>\n",
       "    </tr>\n",
       "  </thead>\n",
       "  <tbody>\n",
       "    <tr>\n",
       "      <th>dev</th>\n",
       "      <td>[2.0, 2.0, 1.0, 2.0, 1.0, 1.0, 2.0, 1.0, 1.0, ...</td>\n",
       "      <td>[1, 1, 2, 2, 2, 2, 1, 1, 1, 2, 1, 2, 1, 1, 2, ...</td>\n",
       "      <td>0.470</td>\n",
       "    </tr>\n",
       "    <tr>\n",
       "      <th>test</th>\n",
       "      <td>[1.0, 2.0, 1.0, 1.0, 2.0, 2.0, 1.0, 2.0, 1.0, ...</td>\n",
       "      <td>[1, 2, 1, 2, 1, 2, 2, 2, 1, 1, 1, 1, 2, 2, 2, ...</td>\n",
       "      <td>0.534</td>\n",
       "    </tr>\n",
       "  </tbody>\n",
       "</table>\n",
       "</div>"
      ],
      "text/plain": [
       "                                                  y_true  \\\n",
       "split                                                      \n",
       "dev    [2.0, 2.0, 1.0, 2.0, 1.0, 1.0, 2.0, 1.0, 1.0, ...   \n",
       "test   [1.0, 2.0, 1.0, 1.0, 2.0, 2.0, 1.0, 2.0, 1.0, ...   \n",
       "\n",
       "                                                  y_pred  accuracy  \n",
       "split                                                               \n",
       "dev    [1, 1, 2, 2, 2, 2, 1, 1, 1, 2, 1, 2, 1, 1, 2, ...     0.470  \n",
       "test   [1, 2, 1, 2, 1, 2, 2, 2, 1, 1, 1, 1, 2, 2, 2, ...     0.534  "
      ]
     },
     "execution_count": 15,
     "metadata": {},
     "output_type": "execute_result"
    }
   ],
   "source": [
    "from sklearn.metrics import accuracy_score\n",
    "\n",
    "gb[\"accuracy\"] = gb.apply(lambda row: accuracy_score(row[\"y_true\"], row[\"y_pred\"]), axis=1)\n",
    "gb"
   ]
  },
  {
   "cell_type": "code",
   "execution_count": 12,
   "metadata": {},
   "outputs": [
    {
     "data": {
      "text/html": [
       "<div>\n",
       "<style scoped>\n",
       "    .dataframe tbody tr th:only-of-type {\n",
       "        vertical-align: middle;\n",
       "    }\n",
       "\n",
       "    .dataframe tbody tr th {\n",
       "        vertical-align: top;\n",
       "    }\n",
       "\n",
       "    .dataframe thead th {\n",
       "        text-align: right;\n",
       "    }\n",
       "</style>\n",
       "<table border=\"1\" class=\"dataframe\">\n",
       "  <thead>\n",
       "    <tr style=\"text-align: right;\">\n",
       "      <th></th>\n",
       "      <th>lang</th>\n",
       "      <th>NUM_EPOCH</th>\n",
       "      <th>model_name</th>\n",
       "      <th>model_type</th>\n",
       "      <th>asksfor</th>\n",
       "      <th>accuracy</th>\n",
       "      <th>split</th>\n",
       "      <th>y_true</th>\n",
       "      <th>y_pred</th>\n",
       "    </tr>\n",
       "  </thead>\n",
       "  <tbody>\n",
       "    <tr>\n",
       "      <th>0</th>\n",
       "      <td>HR.HT</td>\n",
       "      <td>30</td>\n",
       "      <td>classla/bcms-bertic</td>\n",
       "      <td>bert</td>\n",
       "      <td>effect</td>\n",
       "      <td>0.5280</td>\n",
       "      <td>test</td>\n",
       "      <td>[1.0, 2.0, 1.0, 1.0, 2.0, 2.0, 1.0, 2.0, 1.0, ...</td>\n",
       "      <td>[1, 2, 1, 2, 1, 2, 2, 2, 1, 1, 1, 1, 2, 2, 2, ...</td>\n",
       "    </tr>\n",
       "    <tr>\n",
       "      <th>1</th>\n",
       "      <td>HR.HT</td>\n",
       "      <td>30</td>\n",
       "      <td>classla/bcms-bertic</td>\n",
       "      <td>bert</td>\n",
       "      <td>effect</td>\n",
       "      <td>0.4375</td>\n",
       "      <td>dev</td>\n",
       "      <td>[2.0, 2.0, 1.0, 2.0, 1.0, 1.0, 2.0, 1.0, 1.0, ...</td>\n",
       "      <td>[1, 1, 2, 2, 2, 2, 1, 1, 1, 2, 1, 2, 1, 1, 2, ...</td>\n",
       "    </tr>\n",
       "    <tr>\n",
       "      <th>2</th>\n",
       "      <td>HR.HT</td>\n",
       "      <td>30</td>\n",
       "      <td>classla/bcms-bertic</td>\n",
       "      <td>bert</td>\n",
       "      <td>cause</td>\n",
       "      <td>0.5400</td>\n",
       "      <td>test</td>\n",
       "      <td>[1.0, 1.0, 2.0, 2.0, 2.0, 1.0, 1.0, 1.0, 1.0, ...</td>\n",
       "      <td>[2, 1, 1, 2, 2, 1, 1, 1, 1, 1, 1, 1, 2, 1, 2, ...</td>\n",
       "    </tr>\n",
       "    <tr>\n",
       "      <th>3</th>\n",
       "      <td>HR.HT</td>\n",
       "      <td>30</td>\n",
       "      <td>classla/bcms-bertic</td>\n",
       "      <td>bert</td>\n",
       "      <td>cause</td>\n",
       "      <td>0.5000</td>\n",
       "      <td>dev</td>\n",
       "      <td>[2.0, 1.0, 1.0, 1.0, 1.0, 2.0, 2.0, 1.0, 1.0, ...</td>\n",
       "      <td>[1, 1, 1, 1, 2, 2, 2, 1, 2, 1, 2, 2, 1, 2, 1, ...</td>\n",
       "    </tr>\n",
       "  </tbody>\n",
       "</table>\n",
       "</div>"
      ],
      "text/plain": [
       "    lang  NUM_EPOCH           model_name model_type asksfor  accuracy split  \\\n",
       "0  HR.HT         30  classla/bcms-bertic       bert  effect    0.5280  test   \n",
       "1  HR.HT         30  classla/bcms-bertic       bert  effect    0.4375   dev   \n",
       "2  HR.HT         30  classla/bcms-bertic       bert   cause    0.5400  test   \n",
       "3  HR.HT         30  classla/bcms-bertic       bert   cause    0.5000   dev   \n",
       "\n",
       "                                              y_true  \\\n",
       "0  [1.0, 2.0, 1.0, 1.0, 2.0, 2.0, 1.0, 2.0, 1.0, ...   \n",
       "1  [2.0, 2.0, 1.0, 2.0, 1.0, 1.0, 2.0, 1.0, 1.0, ...   \n",
       "2  [1.0, 1.0, 2.0, 2.0, 2.0, 1.0, 1.0, 1.0, 1.0, ...   \n",
       "3  [2.0, 1.0, 1.0, 1.0, 1.0, 2.0, 2.0, 1.0, 1.0, ...   \n",
       "\n",
       "                                              y_pred  \n",
       "0  [1, 2, 1, 2, 1, 2, 2, 2, 1, 1, 1, 1, 2, 2, 2, ...  \n",
       "1  [1, 1, 2, 2, 2, 2, 1, 1, 1, 2, 1, 2, 1, 1, 2, ...  \n",
       "2  [2, 1, 1, 2, 2, 1, 1, 1, 1, 1, 1, 1, 2, 1, 2, ...  \n",
       "3  [1, 1, 1, 1, 2, 2, 2, 1, 2, 1, 2, 2, 1, 2, 1, ...  "
      ]
     },
     "execution_count": 12,
     "metadata": {},
     "output_type": "execute_result"
    }
   ],
   "source": [
    "df"
   ]
  },
  {
   "cell_type": "code",
   "execution_count": null,
   "metadata": {},
   "outputs": [],
   "source": []
  }
 ],
 "metadata": {
  "interpreter": {
   "hash": "7f6f5766036ee03d059e365a942add07f79c17033585e9357ee8157d52fe6bb9"
  },
  "kernelspec": {
   "display_name": "Python 3.8.3 ('base')",
   "language": "python",
   "name": "python3"
  },
  "language_info": {
   "codemirror_mode": {
    "name": "ipython",
    "version": 3
   },
   "file_extension": ".py",
   "mimetype": "text/x-python",
   "name": "python",
   "nbconvert_exporter": "python",
   "pygments_lexer": "ipython3",
   "version": "3.8.3"
  },
  "orig_nbformat": 4
 },
 "nbformat": 4,
 "nbformat_minor": 2
}
