{
 "cells": [
  {
   "cell_type": "code",
   "execution_count": 1,
   "metadata": {},
   "outputs": [
    {
     "name": "stderr",
     "output_type": "stream",
     "text": [
      "Some weights of the model checkpoint at classla/bcms-bertic were not used when initializing ElectraForSequenceClassification: ['discriminator_predictions.dense.bias', 'discriminator_predictions.dense_prediction.bias', 'discriminator_predictions.dense.weight', 'discriminator_predictions.dense_prediction.weight']\n",
      "- This IS expected if you are initializing ElectraForSequenceClassification from the checkpoint of a model trained on another task or with another architecture (e.g. initializing a BertForSequenceClassification model from a BertForPreTraining model).\n",
      "- This IS NOT expected if you are initializing ElectraForSequenceClassification from the checkpoint of a model that you expect to be exactly identical (initializing a BertForSequenceClassification model from a BertForSequenceClassification model).\n",
      "Some weights of ElectraForSequenceClassification were not initialized from the model checkpoint at classla/bcms-bertic and are newly initialized: ['classifier.out_proj.weight', 'classifier.dense.weight', 'classifier.out_proj.bias', 'classifier.dense.bias']\n",
      "You should probably TRAIN this model on a down-stream task to be able to use it for predictions and inference.\n"
     ]
    }
   ],
   "source": [
    "from utils import *\n",
    "import pandas as pd\n",
    "import os\n",
    "os.environ[\"TOKENIZERS_PARALLELISM\"] = \"false\"\n",
    "lang = \"HR.HT\"\n",
    "config = democonfig\n",
    "config[\"NUM_EPOCH\"] = 30\n",
    "config[\"lang\"] = lang\n",
    "\n",
    "\n",
    "config[\"model_name\"] = \"classla/bcms-bertic\"\n",
    "config[\"model_type\"] = \"bert\"\n",
    "test = (\n",
    "    pd.read_excel(\"COPA-MT-MK.BG.TR.MT.IS.HR.xlsx\", sheet_name=\"test\")\n",
    "    .dropna(axis=1, how=\"all\")\n",
    "    .rename(columns=col_rename_dict)\n",
    ")\n",
    "dev = (\n",
    "    pd.read_excel(\"COPA-MT-MK.BG.TR.MT.IS.HR.xlsx\", sheet_name=\"dev\")\n",
    "    .dropna(axis=1, how=\"all\")\n",
    "    .rename(columns=col_rename_dict)\n",
    ")\n",
    "train = (\n",
    "    pd.read_excel(\"COPA-MT-MK.BG.TR.MT.IS.HR.xlsx\", sheet_name=\"train\")\n",
    "    .dropna(axis=1, how=\"all\")\n",
    "    .rename(columns=col_rename_dict)\n",
    ")\n",
    "\n",
    "for asksfor in reversed(\"cause effect\".split()):\n",
    "    import torch\n",
    "    torch.cuda.empty_cache()\n",
    "    import gc\n",
    "    gc.collect()\n",
    "    model = instantiate_model(**config)\n",
    "    sep_token = model.tokenizer.sep_token\n",
    "    config[\"asksfor\"] = asksfor\n",
    "    train_subset = filter_dataframe(\n",
    "        train,\n",
    "        lang=lang,\n",
    "        asksfor=asksfor,\n",
    "        sep_token= sep_token,\n",
    "        )\n",
    "    test_subset = filter_dataframe(\n",
    "        test,\n",
    "        lang=lang,\n",
    "        asksfor=asksfor,\n",
    "        sep_token=model.tokenizer.sep_token,\n",
    "        )\n",
    "    dev_subset = filter_dataframe(\n",
    "        dev,\n",
    "        lang=lang,\n",
    "        asksfor=asksfor,\n",
    "        sep_token=model.tokenizer.sep_token,\n",
    "        )\n",
    "\n",
    "    model = train_model_on(model, train_subset, NUM_EPOCH=config.get(\"NUM_EPOCH\"))\n",
    "    y_pred_test = eval_model(model, test_subset)\n",
    "    y_true_test = test.loc[test[\"asks-for\"] == asksfor, \"gold\"].values.tolist()\n",
    "    from sklearn.metrics import accuracy_score\n",
    "    print(f\"On test: {accuracy_score(y_true_test, y_pred_test)}\")\n",
    "    results = dict(config)\n",
    "    results[\"accuracy\"] = accuracy_score(y_true_test, y_pred_test)\n",
    "    results[\"split\"] = \"test\"\n",
    "    results[\"y_true\"] = y_true_test\n",
    "    results[\"y_pred\"] = y_pred_test\n",
    "    with open(\"002_results_new_script.jsonl\", \"a\") as f:\n",
    "        f.write(str(results)+'\\n')\n",
    "\n",
    "    y_pred_dev = eval_model(model, dev_subset)\n",
    "    y_true_dev = dev.loc[dev[\"asks-for\"] == asksfor, \"gold\"].values.tolist()\n",
    "    print(f\"On dev: {accuracy_score(y_true_dev, y_pred_dev)}\")\n",
    "    results = dict(config)\n",
    "    results[\"accuracy\"] = accuracy_score(y_true_dev, y_pred_dev)\n",
    "    results[\"split\"] = \"dev\"\n",
    "    results[\"y_true\"] = y_true_dev\n",
    "    results[\"y_pred\"] = y_pred_dev\n",
    "    with open(\"002_results_new_script.jsonl\", \"a\") as f:\n",
    "        f.write(str(results)+'\\n')\n",
    "    del model"
   ]
  },
  {
   "cell_type": "code",
   "execution_count": null,
   "metadata": {},
   "outputs": [],
   "source": [
    "import pandas as pd\n",
    "\n",
    "from ast import literal_eval\n",
    "with open(\"002_results_new_script.jsonl\") as f:\n",
    "    content = f.readlines()\n",
    "    content = map(literal_eval, content)\n",
    "pd.DataFrame(data=content)"
   ]
  },
  {
   "cell_type": "code",
   "execution_count": null,
   "metadata": {},
   "outputs": [],
   "source": [
    "asksfor"
   ]
  },
  {
   "cell_type": "code",
   "execution_count": null,
   "metadata": {},
   "outputs": [],
   "source": [
    "dev[dev[\"asks-for\"] == asksfor].shape"
   ]
  },
  {
   "cell_type": "code",
   "execution_count": null,
   "metadata": {},
   "outputs": [],
   "source": []
  }
 ],
 "metadata": {
  "interpreter": {
   "hash": "7f6f5766036ee03d059e365a942add07f79c17033585e9357ee8157d52fe6bb9"
  },
  "kernelspec": {
   "display_name": "Python 3.8.3 ('base')",
   "language": "python",
   "name": "python3"
  },
  "language_info": {
   "codemirror_mode": {
    "name": "ipython",
    "version": 3
   },
   "file_extension": ".py",
   "mimetype": "text/x-python",
   "name": "python",
   "nbconvert_exporter": "python",
   "pygments_lexer": "ipython3",
   "version": "3.8.3"
  },
  "orig_nbformat": 4
 },
 "nbformat": 4,
 "nbformat_minor": 2
}
